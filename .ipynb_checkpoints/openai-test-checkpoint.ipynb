{
 "cells": [
  {
   "cell_type": "code",
   "execution_count": 2,
   "id": "53ae5328",
   "metadata": {},
   "outputs": [],
   "source": [
    "import jieba\n",
    "from sklearn.feature_extraction.text import TfidfVectorizer\n",
    "import networkx as nx\n",
    "import matplotlib.pyplot as plt"
   ]
  },
  {
   "cell_type": "code",
   "execution_count": null,
   "id": "27d68d8b",
   "metadata": {},
   "outputs": [],
   "source": [
    "# 示例文本\n",
    "texts = [\n",
    "    \"今天天氣很好，我們去公園玩。\",\n",
    "    \"昨天晚上我們看了一場精彩的電影。\",\n",
    "    \"數據分析是未來的重要技術。\",\n",
    "    \"人工智能正在改變世界。\"\n",
    "]\n",
    "\n",
    "# 使用 Jieba 进行分词\n",
    "tokenized_texts = [\" \".join(jieba.cut(text)) for text in texts]\n",
    "\n",
    "# 使用 TF-IDF 提取关键词\n",
    "vectorizer = TfidfVectorizer(max_features=10)\n",
    "X = vectorizer.fit_transform(tokenized_texts)\n",
    "terms = vectorizer.get_feature_names_out()\n",
    "\n",
    "# 构建共现矩阵\n",
    "cooccurrence_matrix = (X.T * X).toarray()\n",
    "\n",
    "# 构建关系图\n",
    "G = nx.Graph()\n",
    "\n",
    "for i, term in enumerate(terms):\n",
    "    for j, term2 in enumerate(terms):\n",
    "        if i != j and cooccurrence_matrix[i, j] > 0:\n",
    "            G.add_edge(term, term2, weight=cooccurrence_matrix[i, j])\n",
    "\n",
    "# 绘制关系图\n",
    "pos = nx.spring_layout(G)\n",
    "nx.draw(G, pos, with_labels=True, node_size=2000, node_color='skyblue', font_size=16, font_color='black', edge_color='gray')\n",
    "plt.title('Keyword Relationship Graph')\n",
    "plt.show()"
   ]
  },
  {
   "cell_type": "code",
   "execution_count": null,
   "id": "ea34916c",
   "metadata": {},
   "outputs": [],
   "source": []
  },
  {
   "cell_type": "code",
   "execution_count": 1,
   "id": "5bc6530f",
   "metadata": {},
   "outputs": [
    {
     "ename": "ValidationError",
     "evalue": "1 validation error for ChatOpenAI\n__root__\n  Did not find openai_api_key, please add an environment variable `OPENAI_API_KEY` which contains it, or pass `openai_api_key` as a named parameter. (type=value_error)",
     "output_type": "error",
     "traceback": [
      "\u001b[0;31m---------------------------------------------------------------------------\u001b[0m",
      "\u001b[0;31mValidationError\u001b[0m                           Traceback (most recent call last)",
      "Cell \u001b[0;32mIn[1], line 10\u001b[0m\n\u001b[1;32m      4\u001b[0m \u001b[38;5;28;01mfrom\u001b[39;00m \u001b[38;5;21;01mlangchain\u001b[39;00m\u001b[38;5;21;01m.\u001b[39;00m\u001b[38;5;21;01mprompts\u001b[39;00m \u001b[38;5;28;01mimport\u001b[39;00m PromptTemplate\n\u001b[1;32m      6\u001b[0m \u001b[38;5;66;03m# 确保已设置 OPENAI_API_KEY 环境变量\u001b[39;00m\n\u001b[1;32m      7\u001b[0m \u001b[38;5;66;03m# os.environ[\"OPENAI_API_KEY\"] = \"your-api-key\"\u001b[39;00m\n\u001b[1;32m      8\u001b[0m \n\u001b[1;32m      9\u001b[0m \u001b[38;5;66;03m# 初始化 ChatOpenAI 对象\u001b[39;00m\n\u001b[0;32m---> 10\u001b[0m chat_model \u001b[38;5;241m=\u001b[39m ChatOpenAI(model_name\u001b[38;5;241m=\u001b[39m\u001b[38;5;124m\"\u001b[39m\u001b[38;5;124mgpt-3.5-turbo\u001b[39m\u001b[38;5;124m\"\u001b[39m, temperature\u001b[38;5;241m=\u001b[39m\u001b[38;5;241m0.7\u001b[39m)\n\u001b[1;32m     12\u001b[0m \u001b[38;5;66;03m# 创建一个 PromptTemplate\u001b[39;00m\n\u001b[1;32m     13\u001b[0m prompt_template \u001b[38;5;241m=\u001b[39m PromptTemplate(\n\u001b[1;32m     14\u001b[0m     input_variables\u001b[38;5;241m=\u001b[39m[\u001b[38;5;124m\"\u001b[39m\u001b[38;5;124mtitle\u001b[39m\u001b[38;5;124m\"\u001b[39m, \u001b[38;5;124m\"\u001b[39m\u001b[38;5;124mcontent\u001b[39m\u001b[38;5;124m\"\u001b[39m],\n\u001b[1;32m     15\u001b[0m     template\u001b[38;5;241m=\u001b[39m\u001b[38;5;124m\"\"\"\u001b[39m\n\u001b[0;32m   (...)\u001b[0m\n\u001b[1;32m     20\u001b[0m \u001b[38;5;124m    \u001b[39m\u001b[38;5;124m\"\"\"\u001b[39m\n\u001b[1;32m     21\u001b[0m )\n",
      "File \u001b[0;32m~/anaconda3/lib/python3.11/site-packages/pydantic/main.py:341\u001b[0m, in \u001b[0;36mpydantic.main.BaseModel.__init__\u001b[0;34m()\u001b[0m\n",
      "\u001b[0;31mValidationError\u001b[0m: 1 validation error for ChatOpenAI\n__root__\n  Did not find openai_api_key, please add an environment variable `OPENAI_API_KEY` which contains it, or pass `openai_api_key` as a named parameter. (type=value_error)"
     ]
    }
   ],
   "source": [
    "import os\n",
    "from langchain_openai import ChatOpenAI\n",
    "from langchain.chains import LLMChain\n",
    "from langchain.prompts import PromptTemplate\n",
    "\n",
    "# 确保已设置 OPENAI_API_KEY 环境变量\n",
    "# os.getenv('OPENAI_KEY')\n",
    "\n",
    "# 初始化 ChatOpenAI 对象\n",
    "chat_model = ChatOpenAI(model_name=\"gpt-4o-mini\", temperature=0.7)\n",
    "\n",
    "# 创建一个 PromptTemplate\n",
    "prompt_template = PromptTemplate(\n",
    "    input_variables=[\"title\", \"content\"],\n",
    "    template=\"\"\"\n",
    "    文章标题: {title}\n",
    "    文章内容: {content}\n",
    "    \n",
    "    请为以上文章生成一个简洁的摘要。\n",
    "    \"\"\"\n",
    ")\n",
    "\n",
    "# 创建一个 LLMChain\n",
    "summary_chain = LLMChain(\n",
    "    llm=chat_model,\n",
    "    prompt=prompt_template\n",
    ")\n",
    "\n",
    "# 示例文章标题和内容\n",
    "article_title = \"人工智能在未来的影响\"\n",
    "article_content = \"\"\"\n",
    "人工智能正在快速改变各行各业，从医疗到金融，AI 技术正在创造新的机会和挑战。\n",
    "在未来，人工智能可能会在以下几个方面产生重大影响：自动化工作流程、提高生产力、\n",
    "改善医疗结果、推动教育进步。然而，这些技术的发展也伴随着隐私、安全和伦理方面的问题。\n",
    "\"\"\"\n",
    "\n",
    "# 调用链生成摘要\n",
    "summary = summary_chain.run({\n",
    "    \"title\": article_title,\n",
    "    \"content\": article_content\n",
    "})\n",
    "\n",
    "print(\"生成的摘要:\")\n",
    "print(summary)"
   ]
  }
 ],
 "metadata": {
  "kernelspec": {
   "display_name": "Python 3 (ipykernel)",
   "language": "python",
   "name": "python3"
  },
  "language_info": {
   "codemirror_mode": {
    "name": "ipython",
    "version": 3
   },
   "file_extension": ".py",
   "mimetype": "text/x-python",
   "name": "python",
   "nbconvert_exporter": "python",
   "pygments_lexer": "ipython3",
   "version": "3.11.5"
  }
 },
 "nbformat": 4,
 "nbformat_minor": 5
}
